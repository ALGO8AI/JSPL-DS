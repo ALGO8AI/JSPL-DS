{
 "cells": [
  {
   "cell_type": "code",
   "execution_count": 2,
   "metadata": {},
   "outputs": [],
   "source": [
    "import os\n",
    "import pandas as pd\n",
    "import numpy as np\n",
    "import seaborn as sns\n",
    "import matplotlib.pyplot as plt\n"
   ]
  },
  {
   "cell_type": "markdown",
   "metadata": {},
   "source": [
    "## chnarge mix data"
   ]
  },
  {
   "cell_type": "code",
   "execution_count": 3,
   "metadata": {},
   "outputs": [],
   "source": [
    "df=pd.read_excel('../../DATA/SMS3/'+'EAF heat details.xlsx')\n"
   ]
  },
  {
   "cell_type": "code",
   "execution_count": 4,
   "metadata": {},
   "outputs": [],
   "source": [
    " \n",
    "df.drop(columns=['Cast', 'Ladle Number', 'Unnamed: 20', 'REMARKS', 'tap', 'Cast.1'],inplace=True)\n",
    " \n",
    "df=df.dropna(subset='H NO.')\n",
    " \n",
    "df=df.dropna(subset='HM')\n",
    " \n",
    "df['16/09/2024']=pd.to_datetime(df['16/09/2024'],errors='coerce')\n",
    "df=df.dropna(subset='16/09/2024')\n",
    "df['16/09/2024']=df['16/09/2024'].apply(lambda x: x.replace(year=2024))\n",
    " \n",
    "df.set_index('H NO.',inplace=True)\n",
    "df=df.sort_index()"
   ]
  },
  {
   "cell_type": "code",
   "execution_count": 7,
   "metadata": {},
   "outputs": [],
   "source": [
    "df.columns=['Date', 'NH', 'Shift', 'Bucket', 'HM', 'DRI', 'LIME', 'DOLO',\n",
    "       'P.S', 'T C', 'CPC', 'POWER', 'OXY', 'POT', 'TTT', 'AT', 'T WT']"
   ]
  },
  {
   "cell_type": "markdown",
   "metadata": {},
   "source": [
    "## Grade data"
   ]
  },
  {
   "cell_type": "code",
   "execution_count": 43,
   "metadata": {},
   "outputs": [],
   "source": [
    "excels=pd.read_excel('../../Data/SMS3/Heat Number with Grade - FY2024-2025.xlsx',sheet_name=None)"
   ]
  },
  {
   "cell_type": "code",
   "execution_count": 44,
   "metadata": {},
   "outputs": [],
   "source": [
    "grade=pd.concat(list(excels.values()))[['Date'\t,'HEAT NO',\t'GRADE']]"
   ]
  },
  {
   "cell_type": "code",
   "execution_count": 45,
   "metadata": {},
   "outputs": [],
   "source": [
    "grade=grade.drop('Date',axis=1)"
   ]
  },
  {
   "cell_type": "code",
   "execution_count": 46,
   "metadata": {},
   "outputs": [],
   "source": [
    "grade=grade.dropna()"
   ]
  },
  {
   "cell_type": "code",
   "execution_count": 47,
   "metadata": {},
   "outputs": [
    {
     "data": {
      "text/plain": [
       "HEAT NO    float64\n",
       "GRADE       object\n",
       "dtype: object"
      ]
     },
     "execution_count": 47,
     "metadata": {},
     "output_type": "execute_result"
    }
   ],
   "source": [
    "grade.dtypes"
   ]
  },
  {
   "cell_type": "code",
   "execution_count": 48,
   "metadata": {},
   "outputs": [],
   "source": [
    "# grade.to_csv('../../Consolidated_Data/SMS3/SMS3_heat_and_grade.csv')"
   ]
  },
  {
   "cell_type": "markdown",
   "metadata": {},
   "source": [
    "## merging both data"
   ]
  },
  {
   "cell_type": "code",
   "execution_count": 49,
   "metadata": {},
   "outputs": [],
   "source": [
    "grade.set_index('HEAT NO',inplace=True,drop=True)"
   ]
  },
  {
   "cell_type": "code",
   "execution_count": 51,
   "metadata": {},
   "outputs": [],
   "source": [
    "grade=grade[~grade.index.duplicated(keep='first')]"
   ]
  },
  {
   "cell_type": "code",
   "execution_count": 52,
   "metadata": {},
   "outputs": [
    {
     "data": {
      "text/html": [
       "<div>\n",
       "<style scoped>\n",
       "    .dataframe tbody tr th:only-of-type {\n",
       "        vertical-align: middle;\n",
       "    }\n",
       "\n",
       "    .dataframe tbody tr th {\n",
       "        vertical-align: top;\n",
       "    }\n",
       "\n",
       "    .dataframe thead th {\n",
       "        text-align: right;\n",
       "    }\n",
       "</style>\n",
       "<table border=\"1\" class=\"dataframe\">\n",
       "  <thead>\n",
       "    <tr style=\"text-align: right;\">\n",
       "      <th></th>\n",
       "      <th>GRADE</th>\n",
       "    </tr>\n",
       "    <tr>\n",
       "      <th>HEAT NO</th>\n",
       "      <th></th>\n",
       "    </tr>\n",
       "  </thead>\n",
       "  <tbody>\n",
       "    <tr>\n",
       "      <th>4415001.0</th>\n",
       "      <td>SUP-9AG</td>\n",
       "    </tr>\n",
       "    <tr>\n",
       "      <th>4415002.0</th>\n",
       "      <td>SUP-9AG</td>\n",
       "    </tr>\n",
       "    <tr>\n",
       "      <th>4415003.0</th>\n",
       "      <td>S275HS</td>\n",
       "    </tr>\n",
       "    <tr>\n",
       "      <th>4415004.0</th>\n",
       "      <td>SUP-9AG</td>\n",
       "    </tr>\n",
       "    <tr>\n",
       "      <th>4415005.0</th>\n",
       "      <td>S275HS</td>\n",
       "    </tr>\n",
       "    <tr>\n",
       "      <th>...</th>\n",
       "      <td>...</td>\n",
       "    </tr>\n",
       "    <tr>\n",
       "      <th>4421276.0</th>\n",
       "      <td>JSPHTHS(V)</td>\n",
       "    </tr>\n",
       "    <tr>\n",
       "      <th>4421277.0</th>\n",
       "      <td>JSPHTHS(V)</td>\n",
       "    </tr>\n",
       "    <tr>\n",
       "      <th>4421278.0</th>\n",
       "      <td>JSPHTHS(V)</td>\n",
       "    </tr>\n",
       "    <tr>\n",
       "      <th>4421279.0</th>\n",
       "      <td>JSPHTHS(V)</td>\n",
       "    </tr>\n",
       "    <tr>\n",
       "      <th>4421280.0</th>\n",
       "      <td>JSPHTHS(V)</td>\n",
       "    </tr>\n",
       "  </tbody>\n",
       "</table>\n",
       "<p>6279 rows × 1 columns</p>\n",
       "</div>"
      ],
      "text/plain": [
       "                GRADE\n",
       "HEAT NO              \n",
       "4415001.0     SUP-9AG\n",
       "4415002.0     SUP-9AG\n",
       "4415003.0      S275HS\n",
       "4415004.0     SUP-9AG\n",
       "4415005.0      S275HS\n",
       "...               ...\n",
       "4421276.0  JSPHTHS(V)\n",
       "4421277.0  JSPHTHS(V)\n",
       "4421278.0  JSPHTHS(V)\n",
       "4421279.0  JSPHTHS(V)\n",
       "4421280.0  JSPHTHS(V)\n",
       "\n",
       "[6279 rows x 1 columns]"
      ]
     },
     "execution_count": 52,
     "metadata": {},
     "output_type": "execute_result"
    }
   ],
   "source": [
    "grade"
   ]
  },
  {
   "cell_type": "code",
   "execution_count": 55,
   "metadata": {},
   "outputs": [],
   "source": [
    "df=df.merge(grade,right_index=True,left_index=True)"
   ]
  },
  {
   "cell_type": "code",
   "execution_count": 59,
   "metadata": {},
   "outputs": [
    {
     "data": {
      "text/plain": [
       "Date        0\n",
       "NH         19\n",
       "Shift       0\n",
       "Bucket      1\n",
       "HM          0\n",
       "DRI        12\n",
       "LIME       19\n",
       "DOLO       18\n",
       "P.S        21\n",
       "T C         0\n",
       "CPC        20\n",
       "POWER      22\n",
       "OXY        21\n",
       "POT        50\n",
       "TTT       139\n",
       "AT         50\n",
       "T WT      575\n",
       "GRADE       0\n",
       "dtype: int64"
      ]
     },
     "execution_count": 59,
     "metadata": {},
     "output_type": "execute_result"
    }
   ],
   "source": [
    "df.isna().sum()"
   ]
  },
  {
   "cell_type": "code",
   "execution_count": 60,
   "metadata": {},
   "outputs": [],
   "source": [
    "df.to_csv('../../Consolidated_Data/SMS3/SMS3_chrageMix_and_grade.csv')"
   ]
  }
 ],
 "metadata": {
  "kernelspec": {
   "display_name": "jsplDS",
   "language": "python",
   "name": "python3"
  },
  "language_info": {
   "codemirror_mode": {
    "name": "ipython",
    "version": 3
   },
   "file_extension": ".py",
   "mimetype": "text/x-python",
   "name": "python",
   "nbconvert_exporter": "python",
   "pygments_lexer": "ipython3",
   "version": "3.13.0"
  }
 },
 "nbformat": 4,
 "nbformat_minor": 2
}
