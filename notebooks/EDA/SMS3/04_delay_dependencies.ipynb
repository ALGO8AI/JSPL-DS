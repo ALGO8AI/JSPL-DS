{
 "cells": [
  {
   "cell_type": "code",
   "execution_count": 7,
   "metadata": {},
   "outputs": [
    {
     "name": "stdout",
     "output_type": "stream",
     "text": [
      "Total Delay: 7 hours\n"
     ]
    }
   ],
   "source": [
    "import networkx as nx\n",
    "\n",
    "# Create a directed graph for delays\n",
    "G = nx.DiGraph()\n",
    "\n",
    "# Add nodes with delays\n",
    "G.add_node(\"Delay 1\", time=2)  # 2 hours delay\n",
    "G.add_node(\"Delay 2\", time=3)  # 3 hours delay\n",
    "G.add_node(\"Delay 3\", time=5)  # 5 hours delay\n",
    "\n",
    "# Add edges (dependencies)\n",
    "G.add_edge(\"Delay 1\", \"Delay 2\")  # Delay 2 depends on Delay 1\n",
    "G.add_edge(\"Delay 1\", \"Delay 3\")  # Delay 3 depends on Delay 1\n",
    "\n",
    "# Calculate the total delay (critical path)\n",
    "def calculate_total_delay(G):\n",
    "    # Get all paths from start to end\n",
    "    all_paths = list(nx.all_simple_paths(G, source=\"Delay 1\", target=\"Delay 3\"))\n",
    "    max_time = 0\n",
    "    for path in all_paths:\n",
    "        total_time = sum(G.nodes[node][\"time\"] for node in path)\n",
    "        max_time = max(max_time, total_time)\n",
    "    return max_time\n",
    "\n",
    "total_delay = calculate_total_delay(G)\n",
    "print(f\"Total Delay: {total_delay} hours\")\n"
   ]
  },
  {
   "cell_type": "code",
   "execution_count": 8,
   "metadata": {},
   "outputs": [
    {
     "name": "stdout",
     "output_type": "stream",
     "text": [
      "Total Delay: 5 hours\n"
     ]
    }
   ],
   "source": [
    "import networkx as nx\n",
    "\n",
    "# Create a directed graph for delays\n",
    "G = nx.DiGraph()\n",
    "\n",
    "# Add nodes with delays\n",
    "G.add_node(\"Delay 1\", time=2)  # 2 hours delay\n",
    "G.add_node(\"Delay 2\", time=3)  # 3 hours delay\n",
    "G.add_node(\"Delay 3\", time=5)  # 5 hours delay\n",
    "\n",
    "# No edges (delays are independent of each other)\n",
    "\n",
    "# Calculate the total delay (max of all independent delays)\n",
    "def calculate_total_delay(G):\n",
    "    # Simply find the maximum delay time among all delays\n",
    "    max_time = max(G.nodes[node][\"time\"] for node in G.nodes)\n",
    "    return max_time\n",
    "\n",
    "total_delay = calculate_total_delay(G)\n",
    "print(f\"Total Delay: {total_delay} hours\")\n"
   ]
  },
  {
   "cell_type": "code",
   "execution_count": null,
   "metadata": {},
   "outputs": [
    {
     "name": "stdout",
     "output_type": "stream",
     "text": [
      "Total Delay: 7 hours\n"
     ]
    }
   ],
   "source": [
    "import networkx as nx\n",
    "\n",
    "# Create a directed graph for delays\n",
    "G = nx.DiGraph()\n",
    "\n",
    "# Add nodes with delays\n",
    "G.add_node(\"Delay 1\", time=2)  # 2 hours delay     max( 5,7,1,4)\n",
    "G.add_node(\"Delay 2\", time=3)  # 3 hours delay\n",
    "G.add_node(\"Delay 3\", time=5)  # 5 hours delay\n",
    "G.add_node(\"Delay 4\", time=1)  # 1 hour delay (independent)\n",
    "G.add_node(\"Delay 5\", time=4)  # 4 hours delay (independent)\n",
    "\n",
    "# Add edges (dependencies)\n",
    "G.add_edge(\"Delay 1\", \"Delay 2\")  # Delay 2 depends on Delay 1\n",
    "G.add_edge(\"Delay 1\", \"Delay 3\")  # Delay 3 depends on Delay 1\n",
    "\n",
    "# No edges between Delay 4 and other nodes, meaning it's independent\n",
    "# No edges between Delay 5 and other nodes, meaning it's independent\n",
    "\n",
    "# Function to calculate total delay considering both dependent and independent delays\n",
    "def calculate_total_delay(G):\n",
    "    # Get all paths from start to end\n",
    "    all_paths = list(nx.all_simple_paths(G, source=\"Delay 1\", target=\"Delay 3\"))\n",
    "    \n",
    "    # Find the maximum time from all independent delays\n",
    "    independent_delays = [G.nodes[node][\"time\"] for node in G.nodes if not list(G.predecessors(node))]\n",
    "    max_independent_time = max(independent_delays) if independent_delays else 0\n",
    "    \n",
    "    # Calculate total delay for dependent delays\n",
    "    max_path_time = 0\n",
    "    for path in all_paths:\n",
    "        path_time = sum(G.nodes[node][\"time\"] for node in path)\n",
    "        max_path_time = max(max_path_time, path_time)\n",
    "    \n",
    "    # The total delay is the maximum of the dependent and independent delays\n",
    "    total_delay = max(max_path_time, max_independent_time)\n",
    "    return total_delay\n",
    "\n",
    "# Calculate the total delay\n",
    "total_delay = calculate_total_delay(G)\n",
    "print(f\"Total Delay: {total_delay} hours\")\n"
   ]
  }
 ],
 "metadata": {
  "kernelspec": {
   "display_name": "jsplDS",
   "language": "python",
   "name": "python3"
  },
  "language_info": {
   "codemirror_mode": {
    "name": "ipython",
    "version": 3
   },
   "file_extension": ".py",
   "mimetype": "text/x-python",
   "name": "python",
   "nbconvert_exporter": "python",
   "pygments_lexer": "ipython3",
   "version": "3.13.0"
  }
 },
 "nbformat": 4,
 "nbformat_minor": 2
}
