{
 "cells": [
  {
   "cell_type": "code",
   "execution_count": 15,
   "metadata": {},
   "outputs": [],
   "source": [
    "import warnings\n",
    "warnings.filterwarnings(\"ignore\")"
   ]
  },
  {
   "cell_type": "code",
   "execution_count": 16,
   "metadata": {},
   "outputs": [],
   "source": [
    "import os\n",
    "import pandas as pd\n",
    "import numpy as np\n",
    "import matplotlib.pyplot as plt \n",
    "import seaborn as sns"
   ]
  },
  {
   "cell_type": "code",
   "execution_count": 17,
   "metadata": {},
   "outputs": [],
   "source": [
    "csv_files_location='../../../data/DATA/SMS3/IBA-extracted/'\n",
    "csv_files=os.listdir(csv_files_location)"
   ]
  },
  {
   "cell_type": "code",
   "execution_count": 18,
   "metadata": {},
   "outputs": [],
   "source": [
    "file1=csv_files_location+csv_files[0]\n",
    "file2=csv_files_location+csv_files[1]\n",
    "\n",
    "df1=pd.read_csv(file1)\n",
    "df2=pd.read_csv(file2)"
   ]
  },
  {
   "cell_type": "code",
   "execution_count": null,
   "metadata": {},
   "outputs": [],
   "source": [
    "data_tags = [\n",
    "    \"TOTAL SEC ACTIVE POWER\",\n",
    "    \"TOTAL POWER CONSUMED\",\n",
    "    \"WF_1_WEIGHT_ACTUAL\",\n",
    "    \"WF_3_WEIGHT_ACTUAL\",\n",
    "    \"WF_2_WEIGHT_ACTUAL\",\n",
    "    \"TOTAL CARBON CONSUMED\",\n",
    "    \"WF_4_WEIGHT_ACTUAL\",\n",
    "    \"TOTAL OXYGEN CONSUMED\",\n",
    "    \"TAPPING TEMPERATURE\",\n",
    "    \"BAG HOUSE INLET DP\",\n",
    "    \"BAG HOUSE OUTLET DP\",\n",
    "    \"ID FAN 1 RPM\",\n",
    "    \"ID FAN 2 RPM\",\n",
    "    \"ID FAN 3 RPM\",\n",
    "    \"FES INLET TEMPERATURE\",\n",
    "    \"EBT LIFE\",\n",
    "    \"SHELL LIFE\",\n",
    "    \"DELTA LIFE\"\n",
    "]\n"
   ]
  },
  {
   "cell_type": "code",
   "execution_count": 27,
   "metadata": {},
   "outputs": [],
   "source": [
    "df1.columns=df1.iloc[0].to_list()"
   ]
  },
  {
   "cell_type": "code",
   "execution_count": 48,
   "metadata": {},
   "outputs": [
    {
     "name": "stdout",
     "output_type": "stream",
     "text": [
      "TOTAL CARBON CONSUMED\n",
      "BAG HOUSE INLET DP\n",
      "BAG HOUSE OUTLET DP\n",
      "ID FAN 1 RPM\n",
      "ID FAN 2 RPM\n",
      "ID FAN 3 RPM\n",
      "FES INLET TEMPERATURE\n",
      "no outlet temp tag\n",
      "EBT LIFE\n",
      "SHELL LIFE\n",
      "DELTA LIFE\n"
     ]
    }
   ],
   "source": [
    "columns=[]\n",
    "for i in data_tags:\n",
    "    try:\n",
    "        df1[i]\n",
    "        columns.append(i)\n",
    "    except:\n",
    "        print(i)"
   ]
  },
  {
   "cell_type": "code",
   "execution_count": 37,
   "metadata": {},
   "outputs": [],
   "source": [
    "for i in df1.columns:\n",
    "    if 'FAN' in str(i):\n",
    "        print(i)"
   ]
  },
  {
   "cell_type": "code",
   "execution_count": 49,
   "metadata": {},
   "outputs": [
    {
     "data": {
      "text/plain": [
       "['TOTAL SEC ACTIVE POWER',\n",
       " 'TOTAL POWER CONSUMED',\n",
       " 'WF_1_WEIGHT_ACTUAL',\n",
       " 'WF_3_WEIGHT_ACTUAL',\n",
       " 'WF_2_WEIGHT_ACTUAL',\n",
       " 'WF_4_WEIGHT_ACTUAL',\n",
       " 'TOTAL OXYGEN CONSUMED',\n",
       " 'TAPPING TEMPERATURE']"
      ]
     },
     "execution_count": 49,
     "metadata": {},
     "output_type": "execute_result"
    }
   ],
   "source": [
    "columns"
   ]
  },
  {
   "cell_type": "code",
   "execution_count": 45,
   "metadata": {},
   "outputs": [],
   "source": [
    "df2.columns=df2.iloc[0].to_list()"
   ]
  },
  {
   "cell_type": "code",
   "execution_count": 47,
   "metadata": {},
   "outputs": [
    {
     "name": "stdout",
     "output_type": "stream",
     "text": [
      "TOTAL CARBON CONSUMED\n",
      "BAG HOUSE INLET DP\n",
      "BAG HOUSE OUTLET DP\n",
      "ID FAN 1 RPM\n",
      "ID FAN 2 RPM\n",
      "ID FAN 3 RPM\n",
      "FES INLET TEMPERATURE\n",
      "no outlet temp tag\n",
      "EBT LIFE\n",
      "SHELL LIFE\n",
      "DELTA LIFE\n"
     ]
    }
   ],
   "source": [
    "for i in data_tags:\n",
    "    try:\n",
    "        df2[i]\n",
    "    except:\n",
    "        print(i)"
   ]
  },
  {
   "cell_type": "code",
   "execution_count": 53,
   "metadata": {},
   "outputs": [],
   "source": [
    "df=df1[['time']+columns]"
   ]
  },
  {
   "cell_type": "code",
   "execution_count": 56,
   "metadata": {},
   "outputs": [],
   "source": [
    "df=df[2:]"
   ]
  },
  {
   "cell_type": "code",
   "execution_count": 59,
   "metadata": {},
   "outputs": [],
   "source": [
    "df.columns=['time', 'TOTAL SEC ACTIVE POWER', 'TOTAL POWER CONSUMED',\n",
    "       'DRI', 'Lime', 'Dolo',\n",
    "       'DRI_fines', 'TOTAL OXYGEN CONSUMED', 'TAPPING TEMPERATURE']"
   ]
  },
  {
   "cell_type": "code",
   "execution_count": 62,
   "metadata": {},
   "outputs": [],
   "source": [
    "df2=df2[['time']+columns]"
   ]
  },
  {
   "cell_type": "code",
   "execution_count": 63,
   "metadata": {},
   "outputs": [],
   "source": [
    "df2=df2[2:]"
   ]
  },
  {
   "cell_type": "code",
   "execution_count": 64,
   "metadata": {},
   "outputs": [],
   "source": [
    "df2.columns=['time', 'TOTAL SEC ACTIVE POWER', 'TOTAL POWER CONSUMED',\n",
    "       'DRI', 'Lime', 'Dolo',\n",
    "       'DRI_fines', 'TOTAL OXYGEN CONSUMED', 'TAPPING TEMPERATURE']"
   ]
  },
  {
   "cell_type": "code",
   "execution_count": 70,
   "metadata": {},
   "outputs": [],
   "source": [
    "df=pd.concat([df,df2])"
   ]
  },
  {
   "cell_type": "code",
   "execution_count": 73,
   "metadata": {},
   "outputs": [],
   "source": [
    "df=df.set_index('time',drop=True)"
   ]
  },
  {
   "cell_type": "code",
   "execution_count": 76,
   "metadata": {},
   "outputs": [],
   "source": [
    "df.index=pd.to_datetime(df.index,errors='coerce')"
   ]
  },
  {
   "cell_type": "code",
   "execution_count": 85,
   "metadata": {},
   "outputs": [
    {
     "data": {
      "text/html": [
       "<div>\n",
       "<style scoped>\n",
       "    .dataframe tbody tr th:only-of-type {\n",
       "        vertical-align: middle;\n",
       "    }\n",
       "\n",
       "    .dataframe tbody tr th {\n",
       "        vertical-align: top;\n",
       "    }\n",
       "\n",
       "    .dataframe thead th {\n",
       "        text-align: right;\n",
       "    }\n",
       "</style>\n",
       "<table border=\"1\" class=\"dataframe\">\n",
       "  <thead>\n",
       "    <tr style=\"text-align: right;\">\n",
       "      <th></th>\n",
       "      <th>TOTAL SEC ACTIVE POWER</th>\n",
       "      <th>TOTAL POWER CONSUMED</th>\n",
       "      <th>DRI</th>\n",
       "      <th>Lime</th>\n",
       "      <th>Dolo</th>\n",
       "      <th>DRI_fines</th>\n",
       "      <th>TOTAL OXYGEN CONSUMED</th>\n",
       "      <th>TAPPING TEMPERATURE</th>\n",
       "    </tr>\n",
       "    <tr>\n",
       "      <th>time</th>\n",
       "      <th></th>\n",
       "      <th></th>\n",
       "      <th></th>\n",
       "      <th></th>\n",
       "      <th></th>\n",
       "      <th></th>\n",
       "      <th></th>\n",
       "      <th></th>\n",
       "    </tr>\n",
       "  </thead>\n",
       "  <tbody>\n",
       "    <tr>\n",
       "      <th>2024-01-08 00:02:34.996</th>\n",
       "      <td>59.8182</td>\n",
       "      <td>11803.7</td>\n",
       "      <td>2.65378</td>\n",
       "      <td>0.2605</td>\n",
       "      <td>1.63022</td>\n",
       "      <td>0</td>\n",
       "      <td>1026.97</td>\n",
       "      <td>1597.13</td>\n",
       "    </tr>\n",
       "    <tr>\n",
       "      <th>2024-01-08 00:03:34.996</th>\n",
       "      <td>59.9597</td>\n",
       "      <td>12803.6</td>\n",
       "      <td>3.14735</td>\n",
       "      <td>0.3</td>\n",
       "      <td>1.9325</td>\n",
       "      <td>0</td>\n",
       "      <td>1133.56</td>\n",
       "      <td>1508.45</td>\n",
       "    </tr>\n",
       "    <tr>\n",
       "      <th>2024-01-08 00:04:34.996</th>\n",
       "      <td>60.0391</td>\n",
       "      <td>13802.6</td>\n",
       "      <td>3.96132</td>\n",
       "      <td>0.309567</td>\n",
       "      <td>2.21372</td>\n",
       "      <td>0</td>\n",
       "      <td>1240.35</td>\n",
       "      <td>1508.45</td>\n",
       "    </tr>\n",
       "    <tr>\n",
       "      <th>2024-01-08 00:05:34.996</th>\n",
       "      <td>60.056</td>\n",
       "      <td>14803.3</td>\n",
       "      <td>5.34776</td>\n",
       "      <td>0.4</td>\n",
       "      <td>2.48998</td>\n",
       "      <td>0</td>\n",
       "      <td>1346.96</td>\n",
       "      <td>1508.45</td>\n",
       "    </tr>\n",
       "    <tr>\n",
       "      <th>2024-01-08 00:06:34.996</th>\n",
       "      <td>55.7236</td>\n",
       "      <td>15767</td>\n",
       "      <td>6.67973</td>\n",
       "      <td>0.4</td>\n",
       "      <td>2.75665</td>\n",
       "      <td>0</td>\n",
       "      <td>1453.69</td>\n",
       "      <td>1508.45</td>\n",
       "    </tr>\n",
       "    <tr>\n",
       "      <th>...</th>\n",
       "      <td>...</td>\n",
       "      <td>...</td>\n",
       "      <td>...</td>\n",
       "      <td>...</td>\n",
       "      <td>...</td>\n",
       "      <td>...</td>\n",
       "      <td>...</td>\n",
       "      <td>...</td>\n",
       "    </tr>\n",
       "    <tr>\n",
       "      <th>NaT</th>\n",
       "      <td>43.579</td>\n",
       "      <td>2921.48</td>\n",
       "      <td>53.9997</td>\n",
       "      <td>0.8</td>\n",
       "      <td>6.3</td>\n",
       "      <td>0</td>\n",
       "      <td>65.2074</td>\n",
       "      <td>1700.0</td>\n",
       "    </tr>\n",
       "    <tr>\n",
       "      <th>NaT</th>\n",
       "      <td>59.8552</td>\n",
       "      <td>3788.81</td>\n",
       "      <td>53.9997</td>\n",
       "      <td>0.8</td>\n",
       "      <td>6.3</td>\n",
       "      <td>0</td>\n",
       "      <td>83.8007</td>\n",
       "      <td>1700.0</td>\n",
       "    </tr>\n",
       "    <tr>\n",
       "      <th>NaT</th>\n",
       "      <td>59.3657</td>\n",
       "      <td>4777.24</td>\n",
       "      <td>53.9997</td>\n",
       "      <td>0.8</td>\n",
       "      <td>6.3</td>\n",
       "      <td>0</td>\n",
       "      <td>102.479</td>\n",
       "      <td>1700.0</td>\n",
       "    </tr>\n",
       "    <tr>\n",
       "      <th>NaT</th>\n",
       "      <td>66.5846</td>\n",
       "      <td>5829.93</td>\n",
       "      <td>53.9997</td>\n",
       "      <td>0.8</td>\n",
       "      <td>6.3</td>\n",
       "      <td>0</td>\n",
       "      <td>121.178</td>\n",
       "      <td>1700.0</td>\n",
       "    </tr>\n",
       "    <tr>\n",
       "      <th>NaT</th>\n",
       "      <td>65.8915</td>\n",
       "      <td>6920.58</td>\n",
       "      <td>53.9997</td>\n",
       "      <td>0.8</td>\n",
       "      <td>6.3</td>\n",
       "      <td>0</td>\n",
       "      <td>139.718</td>\n",
       "      <td>1700.0</td>\n",
       "    </tr>\n",
       "  </tbody>\n",
       "</table>\n",
       "<p>54614 rows × 8 columns</p>\n",
       "</div>"
      ],
      "text/plain": [
       "                        TOTAL SEC ACTIVE POWER TOTAL POWER CONSUMED      DRI  \\\n",
       "time                                                                           \n",
       "2024-01-08 00:02:34.996                59.8182              11803.7  2.65378   \n",
       "2024-01-08 00:03:34.996                59.9597              12803.6  3.14735   \n",
       "2024-01-08 00:04:34.996                60.0391              13802.6  3.96132   \n",
       "2024-01-08 00:05:34.996                 60.056              14803.3  5.34776   \n",
       "2024-01-08 00:06:34.996                55.7236                15767  6.67973   \n",
       "...                                        ...                  ...      ...   \n",
       "NaT                                     43.579              2921.48  53.9997   \n",
       "NaT                                    59.8552              3788.81  53.9997   \n",
       "NaT                                    59.3657              4777.24  53.9997   \n",
       "NaT                                    66.5846              5829.93  53.9997   \n",
       "NaT                                    65.8915              6920.58  53.9997   \n",
       "\n",
       "                             Lime     Dolo DRI_fines TOTAL OXYGEN CONSUMED  \\\n",
       "time                                                                         \n",
       "2024-01-08 00:02:34.996    0.2605  1.63022         0               1026.97   \n",
       "2024-01-08 00:03:34.996       0.3   1.9325         0               1133.56   \n",
       "2024-01-08 00:04:34.996  0.309567  2.21372         0               1240.35   \n",
       "2024-01-08 00:05:34.996       0.4  2.48998         0               1346.96   \n",
       "2024-01-08 00:06:34.996       0.4  2.75665         0               1453.69   \n",
       "...                           ...      ...       ...                   ...   \n",
       "NaT                           0.8      6.3         0               65.2074   \n",
       "NaT                           0.8      6.3         0               83.8007   \n",
       "NaT                           0.8      6.3         0               102.479   \n",
       "NaT                           0.8      6.3         0               121.178   \n",
       "NaT                           0.8      6.3         0               139.718   \n",
       "\n",
       "                        TAPPING TEMPERATURE  \n",
       "time                                         \n",
       "2024-01-08 00:02:34.996             1597.13  \n",
       "2024-01-08 00:03:34.996             1508.45  \n",
       "2024-01-08 00:04:34.996             1508.45  \n",
       "2024-01-08 00:05:34.996             1508.45  \n",
       "2024-01-08 00:06:34.996             1508.45  \n",
       "...                                     ...  \n",
       "NaT                                  1700.0  \n",
       "NaT                                  1700.0  \n",
       "NaT                                  1700.0  \n",
       "NaT                                  1700.0  \n",
       "NaT                                  1700.0  \n",
       "\n",
       "[54614 rows x 8 columns]"
      ]
     },
     "execution_count": 85,
     "metadata": {},
     "output_type": "execute_result"
    }
   ],
   "source": [
    "df.dropna()"
   ]
  },
  {
   "cell_type": "code",
   "execution_count": 82,
   "metadata": {},
   "outputs": [
    {
     "ename": "TypeError",
     "evalue": "no numeric data to plot",
     "output_type": "error",
     "traceback": [
      "\u001b[1;31m---------------------------------------------------------------------------\u001b[0m",
      "\u001b[1;31mTypeError\u001b[0m                                 Traceback (most recent call last)",
      "Cell \u001b[1;32mIn[82], line 1\u001b[0m\n\u001b[1;32m----> 1\u001b[0m \u001b[43mdf\u001b[49m\u001b[43m[\u001b[49m\u001b[38;5;124;43m'\u001b[39;49m\u001b[38;5;124;43mTOTAL SEC ACTIVE POWER\u001b[39;49m\u001b[38;5;124;43m'\u001b[39;49m\u001b[43m]\u001b[49m\u001b[38;5;241;43m.\u001b[39;49m\u001b[43mplot\u001b[49m\u001b[43m(\u001b[49m\u001b[43m)\u001b[49m\n",
      "File \u001b[1;32mc:\\Users\\Himanshu Ranjan\\Documents\\Algo8\\JSPL-DS\\jsplDS\\Lib\\site-packages\\pandas\\plotting\\_core.py:1030\u001b[0m, in \u001b[0;36mPlotAccessor.__call__\u001b[1;34m(self, *args, **kwargs)\u001b[0m\n\u001b[0;32m   1027\u001b[0m             label_name \u001b[38;5;241m=\u001b[39m label_kw \u001b[38;5;129;01mor\u001b[39;00m data\u001b[38;5;241m.\u001b[39mcolumns\n\u001b[0;32m   1028\u001b[0m             data\u001b[38;5;241m.\u001b[39mcolumns \u001b[38;5;241m=\u001b[39m label_name\n\u001b[1;32m-> 1030\u001b[0m \u001b[38;5;28;01mreturn\u001b[39;00m \u001b[43mplot_backend\u001b[49m\u001b[38;5;241;43m.\u001b[39;49m\u001b[43mplot\u001b[49m\u001b[43m(\u001b[49m\u001b[43mdata\u001b[49m\u001b[43m,\u001b[49m\u001b[43m \u001b[49m\u001b[43mkind\u001b[49m\u001b[38;5;241;43m=\u001b[39;49m\u001b[43mkind\u001b[49m\u001b[43m,\u001b[49m\u001b[43m \u001b[49m\u001b[38;5;241;43m*\u001b[39;49m\u001b[38;5;241;43m*\u001b[39;49m\u001b[43mkwargs\u001b[49m\u001b[43m)\u001b[49m\n",
      "File \u001b[1;32mc:\\Users\\Himanshu Ranjan\\Documents\\Algo8\\JSPL-DS\\jsplDS\\Lib\\site-packages\\pandas\\plotting\\_matplotlib\\__init__.py:71\u001b[0m, in \u001b[0;36mplot\u001b[1;34m(data, kind, **kwargs)\u001b[0m\n\u001b[0;32m     69\u001b[0m         kwargs[\u001b[38;5;124m\"\u001b[39m\u001b[38;5;124max\u001b[39m\u001b[38;5;124m\"\u001b[39m] \u001b[38;5;241m=\u001b[39m \u001b[38;5;28mgetattr\u001b[39m(ax, \u001b[38;5;124m\"\u001b[39m\u001b[38;5;124mleft_ax\u001b[39m\u001b[38;5;124m\"\u001b[39m, ax)\n\u001b[0;32m     70\u001b[0m plot_obj \u001b[38;5;241m=\u001b[39m PLOT_CLASSES[kind](data, \u001b[38;5;241m*\u001b[39m\u001b[38;5;241m*\u001b[39mkwargs)\n\u001b[1;32m---> 71\u001b[0m \u001b[43mplot_obj\u001b[49m\u001b[38;5;241;43m.\u001b[39;49m\u001b[43mgenerate\u001b[49m\u001b[43m(\u001b[49m\u001b[43m)\u001b[49m\n\u001b[0;32m     72\u001b[0m plot_obj\u001b[38;5;241m.\u001b[39mdraw()\n\u001b[0;32m     73\u001b[0m \u001b[38;5;28;01mreturn\u001b[39;00m plot_obj\u001b[38;5;241m.\u001b[39mresult\n",
      "File \u001b[1;32mc:\\Users\\Himanshu Ranjan\\Documents\\Algo8\\JSPL-DS\\jsplDS\\Lib\\site-packages\\pandas\\plotting\\_matplotlib\\core.py:499\u001b[0m, in \u001b[0;36mMPLPlot.generate\u001b[1;34m(self)\u001b[0m\n\u001b[0;32m    497\u001b[0m \u001b[38;5;129m@final\u001b[39m\n\u001b[0;32m    498\u001b[0m \u001b[38;5;28;01mdef\u001b[39;00m \u001b[38;5;21mgenerate\u001b[39m(\u001b[38;5;28mself\u001b[39m) \u001b[38;5;241m-\u001b[39m\u001b[38;5;241m>\u001b[39m \u001b[38;5;28;01mNone\u001b[39;00m:\n\u001b[1;32m--> 499\u001b[0m     \u001b[38;5;28;43mself\u001b[39;49m\u001b[38;5;241;43m.\u001b[39;49m\u001b[43m_compute_plot_data\u001b[49m\u001b[43m(\u001b[49m\u001b[43m)\u001b[49m\n\u001b[0;32m    500\u001b[0m     fig \u001b[38;5;241m=\u001b[39m \u001b[38;5;28mself\u001b[39m\u001b[38;5;241m.\u001b[39mfig\n\u001b[0;32m    501\u001b[0m     \u001b[38;5;28mself\u001b[39m\u001b[38;5;241m.\u001b[39m_make_plot(fig)\n",
      "File \u001b[1;32mc:\\Users\\Himanshu Ranjan\\Documents\\Algo8\\JSPL-DS\\jsplDS\\Lib\\site-packages\\pandas\\plotting\\_matplotlib\\core.py:698\u001b[0m, in \u001b[0;36mMPLPlot._compute_plot_data\u001b[1;34m(self)\u001b[0m\n\u001b[0;32m    696\u001b[0m \u001b[38;5;66;03m# no non-numeric frames or series allowed\u001b[39;00m\n\u001b[0;32m    697\u001b[0m \u001b[38;5;28;01mif\u001b[39;00m is_empty:\n\u001b[1;32m--> 698\u001b[0m     \u001b[38;5;28;01mraise\u001b[39;00m \u001b[38;5;167;01mTypeError\u001b[39;00m(\u001b[38;5;124m\"\u001b[39m\u001b[38;5;124mno numeric data to plot\u001b[39m\u001b[38;5;124m\"\u001b[39m)\n\u001b[0;32m    700\u001b[0m \u001b[38;5;28mself\u001b[39m\u001b[38;5;241m.\u001b[39mdata \u001b[38;5;241m=\u001b[39m numeric_data\u001b[38;5;241m.\u001b[39mapply(\u001b[38;5;28mtype\u001b[39m(\u001b[38;5;28mself\u001b[39m)\u001b[38;5;241m.\u001b[39m_convert_to_ndarray)\n",
      "\u001b[1;31mTypeError\u001b[0m: no numeric data to plot"
     ]
    }
   ],
   "source": [
    "df['TOTAL SEC ACTIVE POWER'].plot()"
   ]
  }
 ],
 "metadata": {
  "kernelspec": {
   "display_name": "jsplDS",
   "language": "python",
   "name": "python3"
  },
  "language_info": {
   "codemirror_mode": {
    "name": "ipython",
    "version": 3
   },
   "file_extension": ".py",
   "mimetype": "text/x-python",
   "name": "python",
   "nbconvert_exporter": "python",
   "pygments_lexer": "ipython3",
   "version": "3.13.0"
  }
 },
 "nbformat": 4,
 "nbformat_minor": 2
}
